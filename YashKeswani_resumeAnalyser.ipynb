{
  "cells": [
    {
      "cell_type": "code",
      "execution_count": 182,
      "metadata": {
        "id": "dKJs2sXIQ-bv"
      },
      "outputs": [],
      "source": [
        "import numpy as np\n",
        "import pandas as pd\n",
        "import matplotlib.pyplot as plt\n",
        "import seaborn as sns\n",
        "%matplotlib inline"
      ]
    },
    {
      "cell_type": "code",
      "execution_count": 183,
      "metadata": {
        "colab": {
          "base_uri": "https://localhost:8080/"
        },
        "id": "QJYPJPvMOkXB",
        "outputId": "32bf5efa-8b0c-4c18-ab44-82005299fceb"
      },
      "outputs": [],
      "source": [
        "#from google.colab import drive\n",
        "#drive.mount('/content/drive')"
      ]
    },
    {
      "cell_type": "code",
      "execution_count": 184,
      "metadata": {
        "id": "0xphu2u8zJIL"
      },
      "outputs": [],
      "source": [
        "df = pd.read_csv('resdata.csv')"
      ]
    },
    {
      "cell_type": "code",
      "execution_count": 185,
      "metadata": {
        "colab": {
          "base_uri": "https://localhost:8080/",
          "height": 206
        },
        "id": "0umRfuLS4aPX",
        "outputId": "5f02d48f-2c60-49e9-d1d3-304eb88a8c8c"
      },
      "outputs": [
        {
          "data": {
            "text/html": [
              "<div>\n",
              "<style scoped>\n",
              "    .dataframe tbody tr th:only-of-type {\n",
              "        vertical-align: middle;\n",
              "    }\n",
              "\n",
              "    .dataframe tbody tr th {\n",
              "        vertical-align: top;\n",
              "    }\n",
              "\n",
              "    .dataframe thead th {\n",
              "        text-align: right;\n",
              "    }\n",
              "</style>\n",
              "<table border=\"1\" class=\"dataframe\">\n",
              "  <thead>\n",
              "    <tr style=\"text-align: right;\">\n",
              "      <th></th>\n",
              "      <th>Category</th>\n",
              "      <th>Resume</th>\n",
              "    </tr>\n",
              "  </thead>\n",
              "  <tbody>\n",
              "    <tr>\n",
              "      <th>0</th>\n",
              "      <td>Data Science</td>\n",
              "      <td>Skills * Programming Languages: Python (pandas...</td>\n",
              "    </tr>\n",
              "    <tr>\n",
              "      <th>1</th>\n",
              "      <td>Data Science</td>\n",
              "      <td>Education Details \\r\\nMay 2013 to May 2017 B.E...</td>\n",
              "    </tr>\n",
              "    <tr>\n",
              "      <th>2</th>\n",
              "      <td>Data Science</td>\n",
              "      <td>Areas of Interest Deep Learning, Control Syste...</td>\n",
              "    </tr>\n",
              "    <tr>\n",
              "      <th>3</th>\n",
              "      <td>Data Science</td>\n",
              "      <td>Skills â¢ R â¢ Python â¢ SAP HANA â¢ Table...</td>\n",
              "    </tr>\n",
              "    <tr>\n",
              "      <th>4</th>\n",
              "      <td>Data Science</td>\n",
              "      <td>Education Details \\r\\n MCA   YMCAUST,  Faridab...</td>\n",
              "    </tr>\n",
              "  </tbody>\n",
              "</table>\n",
              "</div>"
            ],
            "text/plain": [
              "       Category                                             Resume\n",
              "0  Data Science  Skills * Programming Languages: Python (pandas...\n",
              "1  Data Science  Education Details \\r\\nMay 2013 to May 2017 B.E...\n",
              "2  Data Science  Areas of Interest Deep Learning, Control Syste...\n",
              "3  Data Science  Skills â¢ R â¢ Python â¢ SAP HANA â¢ Table...\n",
              "4  Data Science  Education Details \\r\\n MCA   YMCAUST,  Faridab..."
            ]
          },
          "execution_count": 185,
          "metadata": {},
          "output_type": "execute_result"
        }
      ],
      "source": [
        "df.head()"
      ]
    },
    {
      "cell_type": "code",
      "execution_count": 186,
      "metadata": {
        "colab": {
          "base_uri": "https://localhost:8080/"
        },
        "id": "xH7Rynf14iJ0",
        "outputId": "53a1d95c-ef32-4079-cf08-e57816dce04b"
      },
      "outputs": [
        {
          "name": "stdout",
          "output_type": "stream",
          "text": [
            "<class 'pandas.core.frame.DataFrame'>\n",
            "RangeIndex: 962 entries, 0 to 961\n",
            "Data columns (total 2 columns):\n",
            " #   Column    Non-Null Count  Dtype \n",
            "---  ------    --------------  ----- \n",
            " 0   Category  962 non-null    object\n",
            " 1   Resume    962 non-null    object\n",
            "dtypes: object(2)\n",
            "memory usage: 15.2+ KB\n"
          ]
        }
      ],
      "source": [
        "df.info()"
      ]
    },
    {
      "cell_type": "code",
      "execution_count": 187,
      "metadata": {
        "colab": {
          "base_uri": "https://localhost:8080/"
        },
        "id": "dZw4vTuE4p4B",
        "outputId": "3189da50-f345-41db-a056-92c9b2189be2"
      },
      "outputs": [
        {
          "data": {
            "text/plain": [
              "(962, 2)"
            ]
          },
          "execution_count": 187,
          "metadata": {},
          "output_type": "execute_result"
        }
      ],
      "source": [
        "df.shape"
      ]
    },
    {
      "cell_type": "markdown",
      "metadata": {
        "id": "XW4Hy5S9kZoW"
      },
      "source": [
        "# Exploring Categories"
      ]
    },
    {
      "cell_type": "code",
      "execution_count": 188,
      "metadata": {
        "colab": {
          "base_uri": "https://localhost:8080/",
          "height": 899
        },
        "id": "zaGNcxi04s_s",
        "outputId": "7b9e4a89-328e-4400-ffbf-c79ca8b62177"
      },
      "outputs": [
        {
          "data": {
            "text/plain": [
              "Category\n",
              "Java Developer               84\n",
              "Testing                      70\n",
              "DevOps Engineer              55\n",
              "Python Developer             48\n",
              "Web Designing                45\n",
              "HR                           44\n",
              "Hadoop                       42\n",
              "Sales                        40\n",
              "Data Science                 40\n",
              "Mechanical Engineer          40\n",
              "ETL Developer                40\n",
              "Blockchain                   40\n",
              "Operations Manager           40\n",
              "Arts                         36\n",
              "Database                     33\n",
              "Health and fitness           30\n",
              "PMO                          30\n",
              "Electrical Engineering       30\n",
              "Business Analyst             28\n",
              "DotNet Developer             28\n",
              "Automation Testing           26\n",
              "Network Security Engineer    25\n",
              "Civil Engineer               24\n",
              "SAP Developer                24\n",
              "Advocate                     20\n",
              "Name: count, dtype: int64"
            ]
          },
          "execution_count": 188,
          "metadata": {},
          "output_type": "execute_result"
        }
      ],
      "source": [
        "df['Category'].value_counts()"
      ]
    },
    {
      "cell_type": "code",
      "execution_count": 189,
      "metadata": {
        "colab": {
          "base_uri": "https://localhost:8080/",
          "height": 443
        },
        "id": "NyI80c745PPU",
        "outputId": "bf41b19b-1f89-4f42-f77e-8999548e9916"
      },
      "outputs": [
        {
          "data": {
            "image/png": "[encoded data removed]",
            "text/plain": [
              "<Figure size 2000x500 with 1 Axes>"
            ]
          },
          "metadata": {},
          "output_type": "display_data"
        }
      ],
      "source": [
        "plt.figure(figsize=(20,5))\n",
        "plt.xticks(rotation=90)\n",
        "sns.countplot(x='Category',data=df)\n",
        "plt.grid()"
      ]
    },
    {
      "cell_type": "markdown",
      "metadata": {
        "id": "bpIGU3MqkqZf"
      },
      "source": [
        "# Cleaning Data"
      ]
    },
    {
      "cell_type": "code",
      "execution_count": 190,
      "metadata": {
        "colab": {
          "base_uri": "https://localhost:8080/",
          "height": 147
        },
        "id": "Au2m3xfi6CMJ",
        "outputId": "c6450edd-cee1-4910-ef0c-d35e3f7e6d80"
      },
      "outputs": [
        {
          "data": {
            "text/plain": [
              "True     796\n",
              "False    166\n",
              "Name: count, dtype: int64"
            ]
          },
          "execution_count": 190,
          "metadata": {},
          "output_type": "execute_result"
        }
      ],
      "source": [
        "df.duplicated(subset=['Resume']).value_counts()"
      ]
    },
    {
      "cell_type": "code",
      "execution_count": 191,
      "metadata": {
        "colab": {
          "base_uri": "https://localhost:8080/",
          "height": 423
        },
        "id": "xdxbFAXb7XBQ",
        "outputId": "7bd0afce-699f-4981-b988-a9ae3ea0033d"
      },
      "outputs": [
        {
          "data": {
            "text/html": [
              "<div>\n",
              "<style scoped>\n",
              "    .dataframe tbody tr th:only-of-type {\n",
              "        vertical-align: middle;\n",
              "    }\n",
              "\n",
              "    .dataframe tbody tr th {\n",
              "        vertical-align: top;\n",
              "    }\n",
              "\n",
              "    .dataframe thead th {\n",
              "        text-align: right;\n",
              "    }\n",
              "</style>\n",
              "<table border=\"1\" class=\"dataframe\">\n",
              "  <thead>\n",
              "    <tr style=\"text-align: right;\">\n",
              "      <th></th>\n",
              "      <th>Category</th>\n",
              "      <th>Resume</th>\n",
              "    </tr>\n",
              "  </thead>\n",
              "  <tbody>\n",
              "    <tr>\n",
              "      <th>10</th>\n",
              "      <td>Data Science</td>\n",
              "      <td>Skills * Programming Languages: Python (pandas...</td>\n",
              "    </tr>\n",
              "    <tr>\n",
              "      <th>11</th>\n",
              "      <td>Data Science</td>\n",
              "      <td>Education Details \\r\\nMay 2013 to May 2017 B.E...</td>\n",
              "    </tr>\n",
              "    <tr>\n",
              "      <th>12</th>\n",
              "      <td>Data Science</td>\n",
              "      <td>Areas of Interest Deep Learning, Control Syste...</td>\n",
              "    </tr>\n",
              "    <tr>\n",
              "      <th>13</th>\n",
              "      <td>Data Science</td>\n",
              "      <td>Skills â¢ R â¢ Python â¢ SAP HANA â¢ Table...</td>\n",
              "    </tr>\n",
              "    <tr>\n",
              "      <th>14</th>\n",
              "      <td>Data Science</td>\n",
              "      <td>Education Details \\r\\n MCA   YMCAUST,  Faridab...</td>\n",
              "    </tr>\n",
              "    <tr>\n",
              "      <th>...</th>\n",
              "      <td>...</td>\n",
              "      <td>...</td>\n",
              "    </tr>\n",
              "    <tr>\n",
              "      <th>957</th>\n",
              "      <td>Testing</td>\n",
              "      <td>Computer Skills: â¢ Proficient in MS office (...</td>\n",
              "    </tr>\n",
              "    <tr>\n",
              "      <th>958</th>\n",
              "      <td>Testing</td>\n",
              "      <td>â Willingness to accept the challenges. â ...</td>\n",
              "    </tr>\n",
              "    <tr>\n",
              "      <th>959</th>\n",
              "      <td>Testing</td>\n",
              "      <td>PERSONAL SKILLS â¢ Quick learner, â¢ Eagerne...</td>\n",
              "    </tr>\n",
              "    <tr>\n",
              "      <th>960</th>\n",
              "      <td>Testing</td>\n",
              "      <td>COMPUTER SKILLS &amp; SOFTWARE KNOWLEDGE MS-Power ...</td>\n",
              "    </tr>\n",
              "    <tr>\n",
              "      <th>961</th>\n",
              "      <td>Testing</td>\n",
              "      <td>Skill Set OS Windows XP/7/8/8.1/10 Database MY...</td>\n",
              "    </tr>\n",
              "  </tbody>\n",
              "</table>\n",
              "<p>796 rows × 2 columns</p>\n",
              "</div>"
            ],
            "text/plain": [
              "         Category                                             Resume\n",
              "10   Data Science  Skills * Programming Languages: Python (pandas...\n",
              "11   Data Science  Education Details \\r\\nMay 2013 to May 2017 B.E...\n",
              "12   Data Science  Areas of Interest Deep Learning, Control Syste...\n",
              "13   Data Science  Skills â¢ R â¢ Python â¢ SAP HANA â¢ Table...\n",
              "14   Data Science  Education Details \\r\\n MCA   YMCAUST,  Faridab...\n",
              "..            ...                                                ...\n",
              "957       Testing  Computer Skills: â¢ Proficient in MS office (...\n",
              "958       Testing  â Willingness to accept the challenges. â ...\n",
              "959       Testing  PERSONAL SKILLS â¢ Quick learner, â¢ Eagerne...\n",
              "960       Testing  COMPUTER SKILLS & SOFTWARE KNOWLEDGE MS-Power ...\n",
              "961       Testing  Skill Set OS Windows XP/7/8/8.1/10 Database MY...\n",
              "\n",
              "[796 rows x 2 columns]"
            ]
          },
          "execution_count": 191,
          "metadata": {},
          "output_type": "execute_result"
        }
      ],
      "source": [
        "df[df.duplicated()==True]"
      ]
    },
    {
      "cell_type": "code",
      "execution_count": 192,
      "metadata": {
        "colab": {
          "base_uri": "https://localhost:8080/",
          "height": 140
        },
        "id": "odCVKSiJ7qJF",
        "outputId": "738e3cc5-07fa-44ef-f190-de07ce26dba4"
      },
      "outputs": [
        {
          "data": {
            "text/plain": [
              "'Expertise â\\x88\\x92 Data and Quantitative Analysis â\\x88\\x92 Decision Analytics â\\x88\\x92 Predictive Modeling â\\x88\\x92 Data-Driven Personalization â\\x88\\x92 KPI Dashboards â\\x88\\x92 Big Data Queries and Interpretation â\\x88\\x92 Data Mining and Visualization Tools â\\x88\\x92 Machine Learning Algorithms â\\x88\\x92 Business Intelligence (BI) â\\x88\\x92 Research, Reports and Forecasts Education Details \\r\\n PGP in Data Science  Mumbai, Maharashtra Aegis School of data science & Business\\r\\n B.E. in Electronics & Communication Electronics & Communication Indore, Madhya Pradesh IES IPS Academy\\r\\nData Scientist \\r\\n\\r\\nData Scientist with PR Canada\\r\\nSkill Details \\r\\nAlgorithms- Exprience - 6 months\\r\\nBI- Exprience - 6 months\\r\\nBusiness Intelligence- Exprience - 6 months\\r\\nMachine Learning- Exprience - 24 months\\r\\nVisualization- Exprience - 24 months\\r\\nspark- Exprience - 24 months\\r\\npython- Exprience - 36 months\\r\\ntableau- Exprience - 36 months\\r\\nData Analysis- Exprience - 24 monthsCompany Details \\r\\ncompany - Aegis school of Data Science & Business\\r\\ndescription - Mostly working on industry project for providing solution along with Teaching Appointments: Teach undergraduate and graduate-level courses in Spark and Machine Learning as an adjunct faculty member at Aegis School of Data Science, Mumbai (2017 to Present)\\r\\ncompany - Aegis school of Data & Business\\r\\ndescription - Data Science Intern, Nov 2015 to Jan 2016\\r\\n\\r\\nFurnish executive leadership team with insights, analytics, reports and recommendations enabling effective strategic planning across all business units, distribution channels and product lines.\\r\\n\\r\\nâ\\x9e\\x94 Chat Bot using AWS LEX and Tensor flow  Python\\r\\nThe goal of project creates a chat bot for an academic institution or university to handle queries related courses offered by that institute. The objective of this task is to reduce human efforts as well as reduce man made errors. Even by this companies handle their client 24x7. In this case companies are academic institutions and clients are participants or students.\\r\\nâ\\x9e\\x94 Web scraping using Selenium web driver   Python\\r\\nThe task is to scrap the data from the online messaging portal in a text format and have to find the pattern form it.\\r\\nâ\\x9e\\x94 Data Visualization and Data insights   Hadoop Eco System, Hive, PySpark, QlikSense\\r\\nThe goal of this project is to build a Business Solutions to a Internet Service Provider Company, like handling data which is generated per day basis, for that we have to visualize that data and find the usage pattern form it and have a generate a reports.\\r\\nâ\\x9e\\x94 Image Based Fraud Detection   Microsoft Face API, PySpark, Open CV\\r\\nThe main goal of project is Recognize similarity for a face to given Database images. Face recognition is the recognizing a special face from set of different faces. Face is extracted and then compared with the database Image if that Image recognized then the person already applied for loan from somewhere else and now hiding his or her identity, this is how we are going to prevent the frauds in the initial stage itself.\\r\\nâ\\x9e\\x94 Churn Analysis for Internet Service Provider   R, Python, Machine Learning, Hadoop\\r\\nThe objective is to identify the customer who is likely to churn in a given period of time; we have to pretend the customer giving incentive offers.\\r\\nâ\\x9e\\x94 Sentiment Analysis   Python, NLP, Apache Spark service in IBM Bluemix.\\r\\nThis project is highly emphasis on tweets from Twitter data were taken for mobile networks service provider to do a sentiment analysis and analyze whether the expressed opinion was positive, negative or neutral, capture the emotions of the tweets and comparative analysis.\\r\\n\\r\\nQuantifiable Results:\\r\\nâ\\x88\\x92 Mentored 7-12 Data Science Enthusiast each year that have all since gone on to graduate school in Data Science and Business Analytics.\\r\\nâ\\x88\\x92 Reviewed and evaluated 20-40 Research Papers on Data Science for one of the largest Data Science Conference called Data Science Congress by Aegis School of Business Mumbai.\\r\\nâ\\x88\\x92 Heading a solution providing organization called Data Science Delivered into Aegis school of Data Science Mumbai and managed 4-5 live projects using Data Science techniques.\\r\\nâ\\x88\\x92 Working for some social cause with the help of Data Science for Social Goods Committee, where our team developed a product called \"Let\\'s find a missing Child\" for helping society.\\r\\ncompany - IBM India pvt ltd\\r\\ndescription - Mostly worked on blumix and IBM Watson for Data science.'"
            ]
          },
          "execution_count": 192,
          "metadata": {},
          "output_type": "execute_result"
        }
      ],
      "source": [
        "df.iloc[19]['Resume']"
      ]
    },
    {
      "cell_type": "code",
      "execution_count": 193,
      "metadata": {
        "colab": {
          "base_uri": "https://localhost:8080/",
          "height": 206
        },
        "id": "9lNNapwn8QEy",
        "outputId": "c279099f-0b16-403c-8126-e20a480d63bd"
      },
      "outputs": [
        {
          "data": {
            "text/html": [
              "<div>\n",
              "<style scoped>\n",
              "    .dataframe tbody tr th:only-of-type {\n",
              "        vertical-align: middle;\n",
              "    }\n",
              "\n",
              "    .dataframe tbody tr th {\n",
              "        vertical-align: top;\n",
              "    }\n",
              "\n",
              "    .dataframe thead th {\n",
              "        text-align: right;\n",
              "    }\n",
              "</style>\n",
              "<table border=\"1\" class=\"dataframe\">\n",
              "  <thead>\n",
              "    <tr style=\"text-align: right;\">\n",
              "      <th></th>\n",
              "      <th>Category</th>\n",
              "      <th>Resume</th>\n",
              "    </tr>\n",
              "  </thead>\n",
              "  <tbody>\n",
              "    <tr>\n",
              "      <th>0</th>\n",
              "      <td>Data Science</td>\n",
              "      <td>Skills * Programming Languages: Python (pandas...</td>\n",
              "    </tr>\n",
              "    <tr>\n",
              "      <th>1</th>\n",
              "      <td>Data Science</td>\n",
              "      <td>Education Details \\r\\nMay 2013 to May 2017 B.E...</td>\n",
              "    </tr>\n",
              "    <tr>\n",
              "      <th>2</th>\n",
              "      <td>Data Science</td>\n",
              "      <td>Areas of Interest Deep Learning, Control Syste...</td>\n",
              "    </tr>\n",
              "    <tr>\n",
              "      <th>3</th>\n",
              "      <td>Data Science</td>\n",
              "      <td>Skills â¢ R â¢ Python â¢ SAP HANA â¢ Table...</td>\n",
              "    </tr>\n",
              "    <tr>\n",
              "      <th>4</th>\n",
              "      <td>Data Science</td>\n",
              "      <td>Education Details \\r\\n MCA   YMCAUST,  Faridab...</td>\n",
              "    </tr>\n",
              "  </tbody>\n",
              "</table>\n",
              "</div>"
            ],
            "text/plain": [
              "       Category                                             Resume\n",
              "0  Data Science  Skills * Programming Languages: Python (pandas...\n",
              "1  Data Science  Education Details \\r\\nMay 2013 to May 2017 B.E...\n",
              "2  Data Science  Areas of Interest Deep Learning, Control Syste...\n",
              "3  Data Science  Skills â¢ R â¢ Python â¢ SAP HANA â¢ Table...\n",
              "4  Data Science  Education Details \\r\\n MCA   YMCAUST,  Faridab..."
            ]
          },
          "execution_count": 193,
          "metadata": {},
          "output_type": "execute_result"
        }
      ],
      "source": [
        "df.drop_duplicates(subset=['Resume'], keep='first',inplace = True)\n",
        "df.reset_index(inplace=True,drop=True)\n",
        "df.head()"
      ]
    },
    {
      "cell_type": "code",
      "execution_count": 194,
      "metadata": {
        "colab": {
          "base_uri": "https://localhost:8080/"
        },
        "id": "jR9PNlY09E6U",
        "outputId": "f558c6c0-3f3b-46d1-ceeb-4f643de5bc37"
      },
      "outputs": [
        {
          "name": "stdout",
          "output_type": "stream",
          "text": [
            "<class 'pandas.core.frame.DataFrame'>\n",
            "RangeIndex: 166 entries, 0 to 165\n",
            "Data columns (total 2 columns):\n",
            " #   Column    Non-Null Count  Dtype \n",
            "---  ------    --------------  ----- \n",
            " 0   Category  166 non-null    object\n",
            " 1   Resume    166 non-null    object\n",
            "dtypes: object(2)\n",
            "memory usage: 2.7+ KB\n"
          ]
        }
      ],
      "source": [
        "df.info()"
      ]
    },
    {
      "cell_type": "code",
      "execution_count": 195,
      "metadata": {
        "id": "_2zGX-SQVc-5"
      },
      "outputs": [
        {
          "name": "stderr",
          "output_type": "stream",
          "text": [
            "<>:3: SyntaxWarning: invalid escape sequence '\\S'\n",
            "<>:5: SyntaxWarning: invalid escape sequence '\\S'\n",
            "<>:6: SyntaxWarning: invalid escape sequence '\\S'\n",
            "<>:7: SyntaxWarning: invalid escape sequence '\\]'\n",
            "<>:9: SyntaxWarning: invalid escape sequence '\\s'\n",
            "<>:3: SyntaxWarning: invalid escape sequence '\\S'\n",
            "<>:5: SyntaxWarning: invalid escape sequence '\\S'\n",
            "<>:6: SyntaxWarning: invalid escape sequence '\\S'\n",
            "<>:7: SyntaxWarning: invalid escape sequence '\\]'\n",
            "<>:9: SyntaxWarning: invalid escape sequence '\\s'\n",
            "C:\\Users\\Asus\\AppData\\Local\\Temp\\ipykernel_18364\\3797569475.py:3: SyntaxWarning: invalid escape sequence '\\S'\n",
            "  resume_text = re.sub('http\\S+\\s*', ' ', resume_text)\n",
            "C:\\Users\\Asus\\AppData\\Local\\Temp\\ipykernel_18364\\3797569475.py:5: SyntaxWarning: invalid escape sequence '\\S'\n",
            "  resume_text = re.sub('#\\S+', '', resume_text)\n",
            "C:\\Users\\Asus\\AppData\\Local\\Temp\\ipykernel_18364\\3797569475.py:6: SyntaxWarning: invalid escape sequence '\\S'\n",
            "  resume_text = re.sub('@\\S+', ' ', resume_text)\n",
            "C:\\Users\\Asus\\AppData\\Local\\Temp\\ipykernel_18364\\3797569475.py:7: SyntaxWarning: invalid escape sequence '\\]'\n",
            "  resume_text = re.sub('[%s]' % re.escape(\"\"\"!\"#$%&'()*+,-./:;<=>?@[\\]^_`{|}~\"\"\"), ' ', resume_text)\n",
            "C:\\Users\\Asus\\AppData\\Local\\Temp\\ipykernel_18364\\3797569475.py:9: SyntaxWarning: invalid escape sequence '\\s'\n",
            "  resume_text = re.sub('\\s+', ' ', resume_text)\n"
          ]
        }
      ],
      "source": [
        "import re\n",
        "def clean_resume(resume_text):\n",
        "    resume_text = re.sub('http\\S+\\s*', ' ', resume_text)\n",
        "    resume_text = re.sub('RT|cc', ' ', resume_text)\n",
        "    resume_text = re.sub('#\\S+', '', resume_text)\n",
        "    resume_text = re.sub('@\\S+', ' ', resume_text)\n",
        "    resume_text = re.sub('[%s]' % re.escape(\"\"\"!\"#$%&'()*+,-./:;<=>?@[\\]^_`{|}~\"\"\"), ' ', resume_text)\n",
        "    resume_text = re.sub(r'[^\\x00-\\x7f]', r' ', resume_text)\n",
        "    resume_text = re.sub('\\s+', ' ', resume_text)\n",
        "    return resume_text\n",
        "\n",
        "df['Resume'] = df['Resume'].apply(clean_resume)"
      ]
    },
    {
      "cell_type": "code",
      "execution_count": 196,
      "metadata": {
        "colab": {
          "base_uri": "https://localhost:8080/",
          "height": 206
        },
        "id": "Z1sYjNQm9nHk",
        "outputId": "34ae0b06-c198-4688-e4f0-93c9e5bfed47"
      },
      "outputs": [
        {
          "data": {
            "text/html": [
              "<div>\n",
              "<style scoped>\n",
              "    .dataframe tbody tr th:only-of-type {\n",
              "        vertical-align: middle;\n",
              "    }\n",
              "\n",
              "    .dataframe tbody tr th {\n",
              "        vertical-align: top;\n",
              "    }\n",
              "\n",
              "    .dataframe thead th {\n",
              "        text-align: right;\n",
              "    }\n",
              "</style>\n",
              "<table border=\"1\" class=\"dataframe\">\n",
              "  <thead>\n",
              "    <tr style=\"text-align: right;\">\n",
              "      <th></th>\n",
              "      <th>Category</th>\n",
              "      <th>Resume</th>\n",
              "    </tr>\n",
              "  </thead>\n",
              "  <tbody>\n",
              "    <tr>\n",
              "      <th>0</th>\n",
              "      <td>Data Science</td>\n",
              "      <td>Skills Programming Languages Python pandas num...</td>\n",
              "    </tr>\n",
              "    <tr>\n",
              "      <th>1</th>\n",
              "      <td>Data Science</td>\n",
              "      <td>Education Details May 2013 to May 2017 B E UIT...</td>\n",
              "    </tr>\n",
              "    <tr>\n",
              "      <th>2</th>\n",
              "      <td>Data Science</td>\n",
              "      <td>Areas of Interest Deep Learning Control System...</td>\n",
              "    </tr>\n",
              "    <tr>\n",
              "      <th>3</th>\n",
              "      <td>Data Science</td>\n",
              "      <td>Skills R Python SAP HANA Tableau SAP HANA SQL ...</td>\n",
              "    </tr>\n",
              "    <tr>\n",
              "      <th>4</th>\n",
              "      <td>Data Science</td>\n",
              "      <td>Education Details MCA YMCAUST Faridabad Haryan...</td>\n",
              "    </tr>\n",
              "  </tbody>\n",
              "</table>\n",
              "</div>"
            ],
            "text/plain": [
              "       Category                                             Resume\n",
              "0  Data Science  Skills Programming Languages Python pandas num...\n",
              "1  Data Science  Education Details May 2013 to May 2017 B E UIT...\n",
              "2  Data Science  Areas of Interest Deep Learning Control System...\n",
              "3  Data Science  Skills R Python SAP HANA Tableau SAP HANA SQL ...\n",
              "4  Data Science  Education Details MCA YMCAUST Faridabad Haryan..."
            ]
          },
          "execution_count": 196,
          "metadata": {},
          "output_type": "execute_result"
        }
      ],
      "source": [
        "df.head()"
      ]
    },
    {
      "cell_type": "code",
      "execution_count": 197,
      "metadata": {
        "colab": {
          "base_uri": "https://localhost:8080/"
        },
        "id": "1-i0uc7C9uyC",
        "outputId": "1fe1709d-c6ab-4e73-f278-70b59d42ced4"
      },
      "outputs": [
        {
          "name": "stderr",
          "output_type": "stream",
          "text": [
            "[nltk_data] Error loading stopwords: <urlopen error [Errno 11001]\n",
            "[nltk_data]     getaddrinfo failed>\n",
            "[nltk_data] Error loading punkt: <urlopen error [Errno 11001]\n",
            "[nltk_data]     getaddrinfo failed>\n",
            "[nltk_data] Error loading punkt_tab: <urlopen error [Errno 11001]\n",
            "[nltk_data]     getaddrinfo failed>\n"
          ]
        },
        {
          "name": "stdout",
          "output_type": "stream",
          "text": [
            "[('Exprience', 616), ('company', 520), ('months', 515), ('Details', 510), ('description', 458), ('1', 348), ('Project', 299), ('data', 242), ('project', 231), ('6', 227), ('Maharashtra', 217), ('year', 215), ('SQL', 215), ('team', 207), ('Less', 199), ('using', 197), ('January', 189), ('Skill', 175), ('Management', 167), ('Ltd', 159), ('Pune', 158), ('C', 151), ('Education', 144), ('management', 143), ('Data', 140), ('Developer', 137), ('Engineering', 134), ('database', 133), ('Java', 130), ('Database', 127), ('monthsCompany', 125), ('System', 123), ('University', 123), ('Server', 123), ('Pvt', 122), ('India', 120), ('like', 118), ('The', 117), ('Responsibilities', 117), ('various', 116), ('A', 113), ('business', 113), ('2', 113), ('development', 112), ('reports', 111), ('application', 110), ('issues', 106), ('system', 106), ('Mumbai', 106), ('Test', 105)]\n"
          ]
        }
      ],
      "source": [
        "import nltk\n",
        "from nltk.corpus import stopwords\n",
        "import string\n",
        "from wordcloud import WordCloud\n",
        "\n",
        "nltk.download('stopwords')\n",
        "nltk.download('punkt')  # Add this line\n",
        "\n",
        "nltk.download('punkt_tab')\n",
        "\n",
        "oneSetOfStopWords = set(stopwords.words('english')+['``',\"''\"])\n",
        "totalWords =[]\n",
        "Sentences = df['Resume'].values\n",
        "cleanedSentences = \"\"\n",
        "\n",
        "def clean_resume(resume_text):\n",
        "\n",
        "    words = nltk.word_tokenize(resume_text)\n",
        "    cleaned_words = [word for word in words if word not in oneSetOfStopWords and word not in string.punctuation]\n",
        "    cleaned_text = \" \".join(cleaned_words)\n",
        "    return cleaned_text\n",
        "\n",
        "\n",
        "for records in Sentences:\n",
        "    cleanedText = clean_resume(records)\n",
        "    cleanedSentences += cleanedText\n",
        "    requiredWords = nltk.word_tokenize(cleanedText)\n",
        "    for word in requiredWords:\n",
        "        if word not in oneSetOfStopWords and word not in string.punctuation:\n",
        "            totalWords.append(word)\n",
        "\n",
        "\n",
        "wordfreqdist = nltk.FreqDist(totalWords)\n",
        "mostcommon = wordfreqdist.most_common(50)\n",
        "print(mostcommon)"
      ]
    },
    {
      "cell_type": "markdown",
      "metadata": {
        "id": "58EwT7tFk5cN"
      },
      "source": [
        "# Words into Categorical Values"
      ]
    },
    {
      "cell_type": "code",
      "execution_count": 198,
      "metadata": {
        "id": "nKT08acbDCmk"
      },
      "outputs": [],
      "source": [
        "from sklearn.preprocessing import LabelEncoder\n",
        "\n",
        "var_mod = ['Category']\n",
        "le = LabelEncoder()\n",
        "for i in var_mod:\n",
        "    df[i] = le.fit_transform(df[i])"
      ]
    },
    {
      "cell_type": "code",
      "execution_count": 199,
      "metadata": {
        "colab": {
          "base_uri": "https://localhost:8080/",
          "height": 206
        },
        "id": "BSpIf2iwFn2D",
        "outputId": "033972f2-6ab7-4c08-e2c7-9ccb54923660"
      },
      "outputs": [
        {
          "data": {
            "text/html": [
              "<div>\n",
              "<style scoped>\n",
              "    .dataframe tbody tr th:only-of-type {\n",
              "        vertical-align: middle;\n",
              "    }\n",
              "\n",
              "    .dataframe tbody tr th {\n",
              "        vertical-align: top;\n",
              "    }\n",
              "\n",
              "    .dataframe thead th {\n",
              "        text-align: right;\n",
              "    }\n",
              "</style>\n",
              "<table border=\"1\" class=\"dataframe\">\n",
              "  <thead>\n",
              "    <tr style=\"text-align: right;\">\n",
              "      <th></th>\n",
              "      <th>Category</th>\n",
              "      <th>Resume</th>\n",
              "    </tr>\n",
              "  </thead>\n",
              "  <tbody>\n",
              "    <tr>\n",
              "      <th>0</th>\n",
              "      <td>6</td>\n",
              "      <td>Skills Programming Languages Python pandas num...</td>\n",
              "    </tr>\n",
              "    <tr>\n",
              "      <th>1</th>\n",
              "      <td>6</td>\n",
              "      <td>Education Details May 2013 to May 2017 B E UIT...</td>\n",
              "    </tr>\n",
              "    <tr>\n",
              "      <th>2</th>\n",
              "      <td>6</td>\n",
              "      <td>Areas of Interest Deep Learning Control System...</td>\n",
              "    </tr>\n",
              "    <tr>\n",
              "      <th>3</th>\n",
              "      <td>6</td>\n",
              "      <td>Skills R Python SAP HANA Tableau SAP HANA SQL ...</td>\n",
              "    </tr>\n",
              "    <tr>\n",
              "      <th>4</th>\n",
              "      <td>6</td>\n",
              "      <td>Education Details MCA YMCAUST Faridabad Haryan...</td>\n",
              "    </tr>\n",
              "  </tbody>\n",
              "</table>\n",
              "</div>"
            ],
            "text/plain": [
              "   Category                                             Resume\n",
              "0         6  Skills Programming Languages Python pandas num...\n",
              "1         6  Education Details May 2013 to May 2017 B E UIT...\n",
              "2         6  Areas of Interest Deep Learning Control System...\n",
              "3         6  Skills R Python SAP HANA Tableau SAP HANA SQL ...\n",
              "4         6  Education Details MCA YMCAUST Faridabad Haryan..."
            ]
          },
          "execution_count": 199,
          "metadata": {},
          "output_type": "execute_result"
        }
      ],
      "source": [
        "df.head()"
      ]
    },
    {
      "cell_type": "markdown",
      "metadata": {
        "id": "inrkfqWvlGXP"
      },
      "source": [
        "# vectorization and train test split"
      ]
    },
    {
      "cell_type": "code",
      "execution_count": 200,
      "metadata": {
        "colab": {
          "base_uri": "https://localhost:8080/"
        },
        "id": "8Yq0oqkSFrsV",
        "outputId": "d45361f5-056c-4bd0-effe-5c41a9c7160b"
      },
      "outputs": [
        {
          "name": "stdout",
          "output_type": "stream",
          "text": [
            "Feature completed .....\n",
            "(132, 7351)\n",
            "(34, 7351)\n"
          ]
        }
      ],
      "source": [
        "from sklearn.model_selection import train_test_split\n",
        "from sklearn.feature_extraction.text import TfidfVectorizer\n",
        "from scipy.sparse import hstack\n",
        "\n",
        "requiredText = df['Resume'].values\n",
        "requiredTarget = df['Category'].values\n",
        "\n",
        "word_vectorizer = TfidfVectorizer(\n",
        "    sublinear_tf=True,\n",
        "    stop_words='english')\n",
        "word_vectorizer.fit(requiredText)\n",
        "WordFeatures = word_vectorizer.transform(requiredText)\n",
        "\n",
        "print (\"Feature completed .....\")\n",
        "\n",
        "X_train,X_test,y_train,y_test = train_test_split(WordFeatures,requiredTarget,random_state=42, test_size=0.2,\n",
        "                                                 shuffle=True, stratify=requiredTarget)\n",
        "print(X_train.shape)\n",
        "print(X_test.shape)\n"
      ]
    },
    {
      "cell_type": "code",
      "execution_count": 201,
      "metadata": {
        "colab": {
          "base_uri": "https://localhost:8080/"
        },
        "id": "rial6JeCeOtC",
        "outputId": "9705d761-89ea-4995-ca3a-ec1d8172da0c"
      },
      "outputs": [
        {
          "name": "stdout",
          "output_type": "stream",
          "text": [
            "Accuracy of KNeighbors Classifier on training set: 0.89\n",
            "Accuracy of KNeighbors Classifier on test set:     0.82\n"
          ]
        }
      ],
      "source": [
        "from sklearn.naive_bayes import MultinomialNB\n",
        "from sklearn.multiclass import OneVsRestClassifier\n",
        "from sklearn import metrics\n",
        "from sklearn.metrics import accuracy_score\n",
        "from pandas.plotting import scatter_matrix\n",
        "from sklearn.neighbors import KNeighborsClassifier\n",
        "from sklearn import metrics\n",
        "\n",
        "\n",
        "clf = OneVsRestClassifier(KNeighborsClassifier())\n",
        "clf.fit(X_train, y_train)\n",
        "prediction = clf.predict(X_test)\n",
        "print('Accuracy of KNeighbors Classifier on training set: {:.2f}'.format\n",
        "(clf.score(X_train, y_train)))\n",
        "print('Accuracy of KNeighbors Classifier on test set:     {:.2f}'.format\n",
        "(clf.score(X_test, y_test)))"
      ]
    },
    {
      "cell_type": "markdown",
      "metadata": {
        "id": "gCn7FHbslksD"
      },
      "source": [
        "# Classification reports"
      ]
    },
    {
      "cell_type": "code",
      "execution_count": 202,
      "metadata": {
        "colab": {
          "base_uri": "https://localhost:8080/"
        },
        "id": "E9c9cMJEfBtU",
        "outputId": "d9833aa1-6376-4409-e962-f273a57fd08b"
      },
      "outputs": [
        {
          "name": "stdout",
          "output_type": "stream",
          "text": [
            "\n",
            " Classification report for classifier OneVsRestClassifier(estimator=KNeighborsClassifier()):\n",
            "              precision    recall  f1-score   support\n",
            "\n",
            "           0       1.00      1.00      1.00         8\n",
            "           1       1.00      0.40      0.57         5\n",
            "           2       0.71      0.83      0.77         6\n",
            "           3       1.00      1.00      1.00         4\n",
            "           4       1.00      1.00      1.00         5\n",
            "           5       1.00      1.00      1.00         5\n",
            "           6       1.00      1.00      1.00         8\n",
            "           7       0.90      1.00      0.95         9\n",
            "           8       1.00      0.17      0.29         6\n",
            "           9       0.71      1.00      0.83         5\n",
            "          10       1.00      1.00      1.00         4\n",
            "          11       0.67      1.00      0.80         4\n",
            "          12       1.00      0.75      0.86         8\n",
            "          13       1.00      1.00      1.00         5\n",
            "          14       0.83      1.00      0.91         5\n",
            "          15       0.91      1.00      0.95        10\n",
            "          16       1.00      1.00      1.00         4\n",
            "          17       1.00      1.00      1.00         4\n",
            "          18       0.67      0.67      0.67         3\n",
            "          19       0.33      1.00      0.50         2\n",
            "          20       0.83      1.00      0.91         5\n",
            "          21       1.00      1.00      1.00         5\n",
            "          22       1.00      1.00      1.00         4\n",
            "          23       1.00      0.60      0.75         5\n",
            "          24       1.00      0.67      0.80         3\n",
            "\n",
            "    accuracy                           0.89       132\n",
            "   macro avg       0.90      0.88      0.86       132\n",
            "weighted avg       0.92      0.89      0.88       132\n",
            "\n",
            "\n"
          ]
        }
      ],
      "source": [
        "print(\"\\n Classification report for classifier %s:\\n%s\\n\" % (clf, metrics.classification_report(y_train, clf.predict(X_train))))"
      ]
    },
    {
      "cell_type": "code",
      "execution_count": 203,
      "metadata": {
        "colab": {
          "base_uri": "https://localhost:8080/"
        },
        "id": "57NjXzycffPP",
        "outputId": "bdede862-a2e1-4e68-868e-b56246bcbbc0"
      },
      "outputs": [
        {
          "name": "stdout",
          "output_type": "stream",
          "text": [
            "\n",
            " Classification report for classifier OneVsRestClassifier(estimator=KNeighborsClassifier()):\n",
            "              precision    recall  f1-score   support\n",
            "\n",
            "           0       1.00      1.00      1.00         2\n",
            "           1       0.00      0.00      0.00         1\n",
            "           2       0.50      1.00      0.67         1\n",
            "           3       0.00      0.00      0.00         1\n",
            "           4       1.00      1.00      1.00         1\n",
            "           5       1.00      1.00      1.00         1\n",
            "           6       1.00      1.00      1.00         2\n",
            "           7       1.00      1.00      1.00         2\n",
            "           8       1.00      1.00      1.00         1\n",
            "           9       0.67      1.00      0.80         2\n",
            "          10       1.00      1.00      1.00         1\n",
            "          11       1.00      1.00      1.00         1\n",
            "          12       1.00      1.00      1.00         2\n",
            "          13       1.00      1.00      1.00         2\n",
            "          14       1.00      1.00      1.00         1\n",
            "          15       0.75      1.00      0.86         3\n",
            "          16       0.00      0.00      0.00         1\n",
            "          17       1.00      1.00      1.00         1\n",
            "          18       0.50      1.00      0.67         1\n",
            "          19       1.00      1.00      1.00         1\n",
            "          20       0.50      1.00      0.67         1\n",
            "          21       1.00      1.00      1.00         1\n",
            "          22       0.50      1.00      0.67         1\n",
            "          23       0.00      0.00      0.00         2\n",
            "          24       0.00      0.00      0.00         1\n",
            "\n",
            "    accuracy                           0.82        34\n",
            "   macro avg       0.70      0.80      0.73        34\n",
            "weighted avg       0.72      0.82      0.76        34\n",
            "\n",
            "\n"
          ]
        },
        {
          "name": "stderr",
          "output_type": "stream",
          "text": [
            "c:\\Users\\Asus\\Desktop\\project_ResumeAnalyser\\myvenv\\Lib\\site-packages\\sklearn\\metrics\\_classification.py:1565: UndefinedMetricWarning: Precision is ill-defined and being set to 0.0 in labels with no predicted samples. Use `zero_division` parameter to control this behavior.\n",
            "  _warn_prf(average, modifier, f\"{metric.capitalize()} is\", len(result))\n",
            "c:\\Users\\Asus\\Desktop\\project_ResumeAnalyser\\myvenv\\Lib\\site-packages\\sklearn\\metrics\\_classification.py:1565: UndefinedMetricWarning: Precision is ill-defined and being set to 0.0 in labels with no predicted samples. Use `zero_division` parameter to control this behavior.\n",
            "  _warn_prf(average, modifier, f\"{metric.capitalize()} is\", len(result))\n",
            "c:\\Users\\Asus\\Desktop\\project_ResumeAnalyser\\myvenv\\Lib\\site-packages\\sklearn\\metrics\\_classification.py:1565: UndefinedMetricWarning: Precision is ill-defined and being set to 0.0 in labels with no predicted samples. Use `zero_division` parameter to control this behavior.\n",
            "  _warn_prf(average, modifier, f\"{metric.capitalize()} is\", len(result))\n"
          ]
        }
      ],
      "source": [
        "print(\"\\n Classification report for classifier %s:\\n%s\\n\" % (clf, metrics.classification_report(y_test, prediction)))"
      ]
    },
    {
      "cell_type": "markdown",
      "metadata": {
        "id": "sJis7fCsCv2R"
      },
      "source": [
        "# Ats Scorer"
      ]
    },
    {
      "cell_type": "code",
      "execution_count": 204,
      "metadata": {
        "id": "mcgmfy7iHOvj"
      },
      "outputs": [],
      "source": [
        "\n",
        "def clean_resume(resume_text):\n",
        "    words = nltk.word_tokenize(resume_text)\n",
        "    cleaned_words = [word for word in words if word not in oneSetOfStopWords and word not in string.punctuation]\n",
        "    cleaned_text = \" \".join(cleaned_words)\n",
        "    return cleaned_text\n",
        "\n",
        "\n",
        "all_cleaned_resumes = [clean_resume(resume) for resume in df['Resume']]\n"
      ]
    },
    {
      "cell_type": "code",
      "execution_count": 205,
      "metadata": {
        "id": "k3rE5GOIHcUQ"
      },
      "outputs": [],
      "source": [
        "import string\n",
        "from collections import Counter\n",
        "all_words = []\n",
        "for resume in all_cleaned_resumes:\n",
        "    all_words.extend(resume.split())\n",
        "\n",
        "word_counts = Counter(all_words)\n"
      ]
    },
    {
      "cell_type": "code",
      "execution_count": 206,
      "metadata": {
        "id": "_RmYcwRVHv-Y"
      },
      "outputs": [],
      "source": [
        "\n",
        "frequency_threshold = 10\n",
        "\n",
        "potential_keywords = [word for word, count in word_counts.items() if count >= frequency_threshold]"
      ]
    },
    {
      "cell_type": "code",
      "execution_count": 207,
      "metadata": {
        "colab": {
          "base_uri": "https://localhost:8080/"
        },
        "id": "iY1D1cHxHyih",
        "outputId": "affe3aae-86da-4b1c-b38a-426cd534fcf6"
      },
      "outputs": [
        {
          "name": "stdout",
          "output_type": "stream",
          "text": [
            "Potential ATS Keywords: ['Skills', 'Programming', 'Languages', 'Python', 'learn', 'Java', 'JavaScript', 'JQuery', 'Machine', 'learning', 'Regression', 'techniques', 'Cluster', 'Analysis', 'Word', 'Language', 'processing', 'Neural', 'Database', 'Mysql', 'js', 'Tableau', 'HTML', 'CSS', 'Angular', '6', 'computer', 'understanding', 'Deep', 'Education', 'Details', 'Data', 'Science', 'Skill', 'Exprience', '24', 'months', 'monthsCompany', 'company', 'description', 'Services', 'Technology', 'Review', 'review', 'process', 'run', 'analytics', 'generate', 'reports', 'Core', 'member', 'team', 'developing', 'automated', 'platform', 'tool', 'E', 'reviews', 'time', 'end', 'flow', 'solution', 'research', 'development', 'models', 'analysis', 'information', 'present', 'text', 'data', 'Worked', 'analyzing', 'monitoring', 'entire', 'following', 'standards', 'Developed', 'order', 'identify', 'related', 'issues', 'Tools', 'Technologies', 'reporting', 'AND', 'USA', 'customer', 'one', 'year', 'Performed', 'comments', 'across', '4', 'categories', 'Created', 'based', 'effective', 'user', 'handle', 'This', 'product', 'via', 'QA', 'also', 'build', 'relevant', 'per', 'requirement', 'language', 'make', 'store', 'The', 'Information', 'sources', 'ensure', 'best', 'risk', 'multiple', 'different', 'file', 'results', 'created', 'using', 'security', 'etc', 'Analytics', 'cases', 'case', 'manager', 'various', 'ERP', 'systems', 'It', 'used', 'clients', 'A', 'ounting', 'identifying', 'running', 'Bootstrap', 'May', '2013', '2017', 'B', 'Less', '1', '12', 'AWS', 'Platform', 'business', 'India', 'deployed', 'machine', 'regression', 'model', 'com', 'problem', 'Implemented', 'state', 'Learning', 'Control', 'System', 'Design', 'Web', 'Development', 'Technical', 'Limited', 'For', 'Senior', 'Engineer', '2000', 'MySQL', 'Software', 'IDE', 'Eclipse', 'Operating', 'Systems', 'Windows', 'Linux', 'January', 'Tech', 'Electrical', 'Electronics', 'Engineering', 'Institute', '2015', 'School', 'August', 'I', 'working', 'need', 'customers', 'done', 'system', 'proper', 'back', 'implement', 'target', 'marketing', 'R', 'SAP', 'HANA', 'SQL', 'MS', 'C', 'NLP', '2018', 'Business', 'Management', 'Bachelor', 'Communication', 'New', 'College', 'University', 'Consultant', 'project', 'involved', 'future', 'Role', 'given', 'client', 'Key', 'Responsibilities', 'Environment', 'Industry', 'Service', 'Area', 'Project', 'Name', '3', 'creation', 'large', 'English', 'Finance', 'BI', '8', 'develop', 'infrastructure', 'top', 'S', 'view', 'financial', 'departments', 'Reporting', 'leading', 'Develop', 'ETL', 'Life', '2', 'users', 'query', 'provide', 'design', 'analytical', 'Based', 'Planning', 'CRM', 'modules', 'key', 'activities', 'base', 'developed', 'performance', 'views', 'Customer', 'Sales', 'Time', 'Internal', 'su', 'essfully', 'core', 'K', 'Also', 'new', 'defined', 'reduce', 'manual', 'open', 'decision', 'Experience', 'In', 'Process', 'Developer', 'Solutions', 'Pvt', 'Ltd', 'My', 'role', 'database', 'operational', 'production', 'planning', 'Involved', 'Designed', 'implemented', 'complex', 'scripts', 'procedures', 'Dashboard', 'building', 'server', 'cluster', 'T', 'Testing', 'care', 'completed', 'maintenance', 'servers', 'Production', 'Quality', 'Analyzing', 'requirements', 'scope', 'getting', 'mapping', 'documents', 'specification', 'documentation', 'Create', 'like', 'tables', 'Monitored', 'Server', 'Application', 'Entity', 'Responsible', 'Designing', 'tuning', 'UAT', 'knowledge', 'support', '2008', '2014', 'Visual', 'Studio', '2010', 'Performance', 'Monitor', 'PL', 'SKILLS', 'Microsoft', 'Excel', 'Pradesh', 'June', '2012', 'Secondary', 'science', 'Certified', 'years', 'managing', 'projects', 'world', 'solutions', 'Computer', 'Global', 'processed', 'tools', 'loading', 'python', 'Used', 'drawing', 'problems', 'Network', 'Wipro', 'high', 'professional', 'An', 'IT', 'software', 'products', 'designing', 'implementation', 'configuration', 'Knowledge', 'Support', 'Have', 'Oracle', 'programming', 'environment', 'Cloud', 'Working', 'Good', 'communication', 'solving', 'ability', 'change', 'Ability', 'create', 'code', 'TECHNICAL', 'Databases', '2016', 'Sr', '9', 'Title', 'Intelligence', 'Team', 'Size', '5', 'power', 'automation', 'technologies', 'ess', 'manage', 'includes', 'queries', 'User', 'involves', 'training', 'efficient', 'Model', 'Roles', 'framework', 'Training', 'Personal', 'Profile', 'Hindi', 'Status', 'Date', '20', 'Developing', 'programs', 'technical', 'High', 'levels', '2006', 'Polytechnic', '2003', 'M', 'update', 'Solution', 'MYSQL', 'Selenium', 'web', 'Insurance', 'shared', 'Expertise', 'Big', 'Queries', 'Research', 'Reports', 'Mumbai', 'Maharashtra', '36', 'school', 'providing', 'along', 'level', 'Spark', 'Nov', 'Jan', 'distribution', 'university', 'institute', 'task', 'well', 'made', 'errors', 'online', 'portal', 'form', 'Hadoop', 'Hive', 'Internet', 'Company', 'handling', 'generated', 'day', 'basis', 'usage', 'API', 'main', 'offers', 'Apache', 'service', 'IBM', 'analyze', '7', 'Reviewed', 'organization', 'live', 'help', 'pvt', 'ltd', 'worked', 'HSC', 'HR', 'resource', 'XP', 'Office', 'basic', 'functions', 'Power', 'Point', 'Payment', 'International', 'Employee', 'Administration', 'Creating', 'specific', 'employees', 'administration', 'Coordinate', 'ounts', 'management', 'resolution', 'Manage', 'compliance', '16', 'Handling', 'job', 'plan', 'budget', 'schedule', 'employee', 'ount', 'End', 'creating', 'Job', 'Description', 'Conduct', 'Creation', 'deployment', 'sessions', 'Day', 'works', 'Operations', 'Chennai', 'engineering', 'April', 'DATABASE', 'SYSTEM', 'required', 'master', 'take', 'till', 'Certificate', 'July', 'Sc', 'March', '30', 'days', 'department', 'use', 'office', 'BE', 'V', 'G', 'SSC', 'Admin', 'records', 'Program', 'Responsibility', 'tasks', 'technology', 'JAVA', 'H', 'Law', 'IN', 'Advocate', 'Court', 'Civil', 'good', 'Legal', 'Enterprise', 'people', 'Work', 'part', 'group', 'achieve', 'AT', 'LTD', 'Providing', 'local', 'P', 'e', 'preparation', 'Of', '2011', 'Writing', 'rules', 'maintain', 'co', 'driven', 'meet', 'deadlines', 'effectively', 'resources', '2009', 'Networking', '2005', '72', 'Aug', 'Council', 'Su', 'All', 'conducted', 'Lead', 'civil', 'Panel', 'National', 'Co', 'include', 'gathering', 'orders', 'Managing', 'including', 'control', 'Trust', 'Board', 'student', 'issue', 'Banking', 'commercial', 'Pune', 'Diploma', 'services', 'Private', 'Clients', 'Bank', 'Report', 'recovery', 'Summary', 'Consultancy', 'quality', 'Provide', 'Quick', 'Commerce', 'skill', 'Marketing', 'Nagpur', 'Arts', '10', 'workshop', 'No', 'Presentation', 'Automation', 'Centre', 'events', 'college', 'State', 'arts', 'To', 'improve', 'field', 'Health', 'British', 'responsibility', 'music', 'lead', 'within', 'overall', 'external', 'potential', 'existing', 'progress', 'Ensuring', 'timely', 'program', 'responsible', 'available', 'partners', 'ensuring', 'market', 'opportunities', 'international', 'UK', 'countries', 'every', 'United', 'maintaining', 'delivery', 'detailed', 'plans', 'processes', 'staff', 'media', 'website', 'stakeholders', 'Taking', 'health', 'Implementing', 'unit', 'appropriate', 'equipment', 'necessary', 'Checking', 'Using', 'provides', 'Maintain', 'schedules', 'report', 'Participated', 'meetings', 'proposal', 'Maintaining', 'Drawing', 'Gym', 'fitness', 'Other', 'And', 'From', 'responsibilities', 'Nashik', 'Months', 'Designation', 'Period', '31', 'HTML5', 'CSS3', 'Jquery', 'Javascript', 'BOOTSTRAP', 'Projects', 'banking', 'complete', 'UI', 'bank', 'members', 'completion', 'Made', 'MVC', 'application', 'applications', 'Security', 'provided', 'purchase', 'ASP', 'vendors', 'sales', 'developers', 'understand', 'www', 'interaction', 'PHP', 'Ajax', 'Framework', 'date', 'AJAX', 'size', 'Position', 'Online', 'types', 'details', 'Order', 'administrator', 'Net', 'net', 'Center', 'Basic', '0', 'At', '15', 'functional', 'specifications', 'Agile', 'bugs', 'changes', 'Having', 'PROJECT', 'Duration', 'Mechanical', 'Industrial', 'Pre', 'materials', 'construction', 'Participate', 'Perform', 'cost', 'requests', 'critical', 'correct', 'get', 'follow', 'standard', 'jobs', 'Coordinating', 'estimation', 'site', 'Attending', 'meeting', 'Preparation', 'Vendor', 'improvement', 'vendor', 'suppliers', 'inventory', 'execution', 'preparing', 'manufacturing', 'O', 'activity', 'Monitoring', 'drawings', 'test', 'ording', 'internal', 'audit', 'material', 'inspection', 'Strong', 'towards', 'Tata', 'Air', 'another', 'Phule', 'engineer', 'designed', 'regular', 'environments', 'OF', 'PVT', 'As', 'smooth', 'Manager', '11', 'Client', 'strategies', 'Excellent', 'Group', 'Fitness', 'Set', 'targets', 'Build', 'possible', 'roles', 'monitor', 'SERVER', 'leads', 'calls', 'Site', 'call', 'monthly', 'updating', 'daily', 'groups', 'Provided', 'Completed', 'Handled', 'Daily', 'weekly', 'Preparing', 'cash', 'check', 'Maintenance', 'NET', 'writing', 'type', 'resolving', 'status', 'discuss', 'QC', 'Building', 'Test', 'Plan', 'multi', 'document', 'tests', 'request', 'conducting', 'Ensure', 'testing', 'contract', 'Plant', '17', 'Execution', 'setup', '48', 'Scheduling', 'installation', 'Billing', '2007', 'About', 'fixing', 'Architecture', 'developer', 'J2EE', 'Spring', 'Hibernate', 'Functional', 'Manual', 'Stock', 'Till', 'track', 'tracking', 'efficiency', 'JSP', 'MAHARASHTRA', 'XML', 'JSON', 'module', 'workflow', 'DB', 'On', 'teams', 'Shell', 'script', 'Jenkins', 'Android', 'Mahindra', 'File', 'backup', 'billing', 'Prepare', 'layer', 'Migration', 'java', 'Amravati', 'MIS', 'Servlet', 'Scripting', 'OS', 'network', '10g', 'Tool', '14', 'Requirement', 'MongoDB', 'bug', 'Analyst', 'Document', 'resolve', 'PMO', 'Servers', 'Crystal', 'Implementation', 'integration', 'Post', 'Documentation', 'UNIX', 'JIRA', 'Requirements', 'Change', 'ways', 'Case', 'Risk', 'Credit', 'Delivery', 'Integration', 'eptance', 'Methodology', 'Scrum', 'Understanding', 'global', 'operations', 'Inventory', 'version', 'Type', 'Unit', 'export', 'Operation', 'BODS', 'BO', '11g', 'Administrator', 'migration', 'DR', 'windows', 'source', 'files', 'Configuration', 'Map', 'Active', 'availability', 'universe', 'troubleshooting', 'webi', 'Nestle', 'freight', 'components', 'essful', 'US', 'Honeywell', 'replication', 'SharePoint', 'Smart', 'IS', 'upgrade', 'release', 'PLC', 'Line', 'GE', 'logic', 'VPN', 'FTP', 'QTP', 'scripting', 'Installation', 'Tester', 'load', 'commerce', 'LT', 'FAT', 'panels', 'Troubleshooting', 'Distribution', 'Transformer', 'BNY', 'Mellon', 'SLA', 'policies', 'log', 'troubleshoot', 'shipping', 'shipments', 'Korea', 'GES', 'mentioned', 'HPM', 'Backup', 'devices', 'M3', 'Unix', 'mysql', 'DevOps', 'Azure', 'shell', 'sql', 'Cisco', 'side', 'Resource', 'R2', '2008R2', 'databases', 'firewalls', 'ASA', 'Firewall', 'Routing', 'backups', 'RMAN', 'patching', 'DBA', 'mirroring', 'RDBMS', 'Layer', 'Scala', 'HDFS', 'MapReduce', 'Pig', 'HBase', 'Sqoop', 'hive', 'Reduce', 'transformations', 'Informatica', 'Talend', 'mappings', 'Dot', 'Comments', 'Blockchain', 'blockchain', 'Python', 'SQL', 'machine learning', 'data analysis', 'operating system', 'node.js', 'mongodb', 'express']\n"
          ]
        }
      ],
      "source": [
        "\n",
        "potential_keywords = [word for word in potential_keywords if word not in ['work', 'experience', 'skills']]\n",
        "potential_keywords.extend(['Python', 'SQL', 'machine learning', 'data analysis','operating system','node.js','mongodb','express'])\n",
        "print(\"Potential ATS Keywords:\", potential_keywords)"
      ]
    },
    {
      "cell_type": "code",
      "execution_count": 208,
      "metadata": {
        "id": "c30qR9h6Idin"
      },
      "outputs": [],
      "source": [
        "ats_keywords = potential_keywords\n"
      ]
    },
    {
      "cell_type": "markdown",
      "metadata": {
        "id": "W5OkjRGbPd2u"
      },
      "source": [
        "# Prediction\n"
      ]
    },
    {
      "cell_type": "code",
      "execution_count": 209,
      "metadata": {
        "id": "VS5wrHgVd24m"
      },
      "outputs": [],
      "source": [
        "new_resume_data = df.iloc[19]['Resume']"
      ]
    },
    {
      "cell_type": "code",
      "execution_count": 210,
      "metadata": {
        "colab": {
          "base_uri": "https://localhost:8080/"
        },
        "id": "6j9fWNNpJI5J",
        "outputId": "92255416-0f73-4572-ac7b-3d5693a372fb"
      },
      "outputs": [
        {
          "name": "stdout",
          "output_type": "stream",
          "text": [
            "Predicted ATS Score: 30\n",
            "Predicted Category: Automation Testing\n"
          ]
        }
      ],
      "source": [
        "clf = OneVsRestClassifier(KNeighborsClassifier())\n",
        "clf.fit(X_train, y_train)\n",
        "import pickle\n",
        "with open('trained_model.pkl', 'wb') as file:\n",
        "    pickle.dump(clf, file)\n",
        "with open('trained_model.pkl', 'rb') as file:\n",
        "    loaded_model = pickle.load(file)\n",
        "\n",
        "\n",
        "with open('trained_model.pkl', 'rb') as file:\n",
        "    loaded_model = pickle.load(file)\n",
        "    from sklearn.feature_extraction.text import TfidfVectorizer\n",
        "\n",
        "\n",
        "# Assuming `requiredText` contains the text data (from your `df['Resume']` column)\n",
        "word_vectorizer = TfidfVectorizer(\n",
        "    sublinear_tf=True,\n",
        "    stop_words='english'\n",
        ")\n",
        "word_vectorizer.fit(requiredText)\n",
        "\n",
        "# Save the vectorizer to a file\n",
        "with open('vectorizer.pkl', 'wb') as file:\n",
        "    pickle.dump(word_vectorizer, file)\n",
        "    from sklearn.preprocessing import LabelEncoder\n",
        "from sklearn.preprocessing import LabelEncoder\n",
        "import pickle\n",
        "\n",
        "# Initialize and fit the label encoder\n",
        "label_encoder = LabelEncoder()\n",
        "df['Category'] = label_encoder.fit_transform(df['Category'])\n",
        "\n",
        "# Save the label encoder to a file\n",
        "with open('label_encoder.pkl', 'wb') as le_file:\n",
        "    pickle.dump(label_encoder, le_file)\n",
        "\n",
        "# Now continue with training as usual\n",
        "\n",
        "# Load the label encoder (used during training)\n",
        "\n",
        "\n",
        "\n",
        "\n",
        "def predict_ats_score_and_category(resume_text):\n",
        "    # Clean the resume text\n",
        "    cleaned_resume = clean_resume(resume_text)\n",
        "\n",
        "    # Calculate ATS score: count unique keywords present in the resume\n",
        "    ats_score = len(set(ats_keywords).intersection(cleaned_resume.lower().split()))\n",
        "\n",
        "    # Transform the resume text into features\n",
        "    resume_features = word_vectorizer.transform([resume_text])\n",
        "\n",
        "    # Predict category\n",
        "    predicted_category_index = loaded_model.predict(resume_features)[0]\n",
        "    predicted_category = le.inverse_transform([predicted_category_index])[0]\n",
        "\n",
        "    return ats_score, predicted_category\n",
        "\n",
        "\n",
        "\n",
        "new_resume_data = df.iloc[19]['Resume']\n",
        "ats_score, predicted_category = predict_ats_score_and_category(new_resume_data)\n",
        "print(\"Predicted ATS Score:\", ats_score)\n",
        "print(\"Predicted Category:\", predicted_category)"
      ]
    },
    {
      "cell_type": "code",
      "execution_count": null,
      "metadata": {
        "id": "WOMfGzwaNaZT"
      },
      "outputs": [],
      "source": []
    }
  ],
  "metadata": {
    "colab": {
      "provenance": []
    },
    "kernelspec": {
      "display_name": "myvenv",
      "language": "python",
      "name": "python3"
    },
    "language_info": {
      "codemirror_mode": {
        "name": "ipython",
        "version": 3
      },
      "file_extension": ".py",
      "mimetype": "text/x-python",
      "name": "python",
      "nbconvert_exporter": "python",
      "pygments_lexer": "ipython3",
      "version": "3.12.3"
    }
  },
  "nbformat": 4,
  "nbformat_minor": 0
}
